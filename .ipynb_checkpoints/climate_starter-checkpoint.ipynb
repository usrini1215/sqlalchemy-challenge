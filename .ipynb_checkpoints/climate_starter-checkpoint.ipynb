{
 "cells": [
  {
   "cell_type": "code",
   "execution_count": 1,
   "metadata": {},
   "outputs": [],
   "source": [
    "%matplotlib inline\n",
    "from matplotlib import style\n",
    "style.use('fivethirtyeight')\n",
    "import matplotlib.pyplot as plt"
   ]
  },
  {
   "cell_type": "code",
   "execution_count": 2,
   "metadata": {},
   "outputs": [],
   "source": [
    "import numpy as np\n",
    "import pandas as pd"
   ]
  },
  {
   "cell_type": "code",
   "execution_count": 3,
   "metadata": {},
   "outputs": [],
   "source": [
    "import datetime as dt"
   ]
  },
  {
   "cell_type": "markdown",
   "metadata": {},
   "source": [
    "# Reflect Tables into SQLAlchemy ORM"
   ]
  },
  {
   "cell_type": "code",
   "execution_count": 4,
   "metadata": {},
   "outputs": [],
   "source": [
    "# Python SQL toolkit and Object Relational Mapper\n",
    "import sqlalchemy\n",
    "from sqlalchemy.ext.automap import automap_base\n",
    "from sqlalchemy.orm import Session\n",
    "from sqlalchemy import create_engine, func\n",
    "import numpy as np\n",
    "import pandas as pd\n"
   ]
  },
  {
   "cell_type": "code",
   "execution_count": 5,
   "metadata": {},
   "outputs": [],
   "source": [
    "engine = create_engine(\"sqlite:///Resources/hawaii.sqlite\")"
   ]
  },
  {
   "cell_type": "code",
   "execution_count": 6,
   "metadata": {},
   "outputs": [],
   "source": [
    "# reflect an existing database into a new model\n",
    "Base = automap_base()\n",
    "\n",
    "# reflect the tables\n",
    "Base.prepare(engine,reflect=True)\n"
   ]
  },
  {
   "cell_type": "code",
   "execution_count": 7,
   "metadata": {},
   "outputs": [
    {
     "data": {
      "text/plain": [
       "['measurement', 'station']"
      ]
     },
     "execution_count": 7,
     "metadata": {},
     "output_type": "execute_result"
    }
   ],
   "source": [
    "# We can view all of the classes that automap found\n",
    "Base.classes.keys()\n",
    "#engine.execute('SELECT * FROM station').fetchall()\n",
    "#print(engine.execute('SELECT * FROM measurement').fetchall())"
   ]
  },
  {
   "cell_type": "code",
   "execution_count": 8,
   "metadata": {},
   "outputs": [],
   "source": [
    "# Save references to each table\n",
    "Measurement = Base.classes.measurement\n",
    "Station = Base.classes.station\n"
   ]
  },
  {
   "cell_type": "code",
   "execution_count": 9,
   "metadata": {},
   "outputs": [
    {
     "data": {
      "text/plain": [
       "[('2010-01-01', 0.08, 'USC00519397'),\n",
       " ('2010-01-02', 0.0, 'USC00519397'),\n",
       " ('2010-01-03', 0.0, 'USC00519397'),\n",
       " ('2010-01-04', 0.0, 'USC00519397'),\n",
       " ('2010-01-06', None, 'USC00519397'),\n",
       " ('2010-01-07', 0.06, 'USC00519397'),\n",
       " ('2010-01-08', 0.0, 'USC00519397'),\n",
       " ('2010-01-09', 0.0, 'USC00519397'),\n",
       " ('2010-01-10', 0.0, 'USC00519397'),\n",
       " ('2010-01-11', 0.01, 'USC00519397'),\n",
       " ('2010-01-12', 0.0, 'USC00519397'),\n",
       " ('2010-01-14', 0.0, 'USC00519397'),\n",
       " ('2010-01-15', 0.0, 'USC00519397'),\n",
       " ('2010-01-16', 0.0, 'USC00519397'),\n",
       " ('2010-01-17', 0.0, 'USC00519397'),\n",
       " ('2010-01-18', 0.0, 'USC00519397'),\n",
       " ('2010-01-19', 0.0, 'USC00519397'),\n",
       " ('2010-01-20', 0.0, 'USC00519397'),\n",
       " ('2010-01-21', 0.0, 'USC00519397'),\n",
       " ('2010-01-22', 0.0, 'USC00519397'),\n",
       " ('2010-01-23', 0.0, 'USC00519397'),\n",
       " ('2010-01-24', 0.01, 'USC00519397'),\n",
       " ('2010-01-25', 0.0, 'USC00519397'),\n",
       " ('2010-01-26', 0.04, 'USC00519397'),\n",
       " ('2010-01-27', 0.12, 'USC00519397'),\n",
       " ('2010-01-28', 0.0, 'USC00519397'),\n",
       " ('2010-01-30', None, 'USC00519397'),\n",
       " ('2010-01-31', 0.03, 'USC00519397'),\n",
       " ('2010-02-01', 0.01, 'USC00519397'),\n",
       " ('2010-02-03', None, 'USC00519397'),\n",
       " ('2010-02-04', 0.01, 'USC00519397'),\n",
       " ('2010-02-05', 0.0, 'USC00519397'),\n",
       " ('2010-02-06', 0.0, 'USC00519397'),\n",
       " ('2010-02-07', 0.0, 'USC00519397'),\n",
       " ('2010-02-08', 0.0, 'USC00519397'),\n",
       " ('2010-02-09', 0.0, 'USC00519397'),\n",
       " ('2010-02-11', 0.0, 'USC00519397'),\n",
       " ('2010-02-12', 0.02, 'USC00519397'),\n",
       " ('2010-02-13', 0.01, 'USC00519397'),\n",
       " ('2010-02-14', 0.0, 'USC00519397'),\n",
       " ('2010-02-15', 0.0, 'USC00519397'),\n",
       " ('2010-02-16', 0.0, 'USC00519397'),\n",
       " ('2010-02-17', 0.0, 'USC00519397'),\n",
       " ('2010-02-19', None, 'USC00519397'),\n",
       " ('2010-02-20', 0.03, 'USC00519397'),\n",
       " ('2010-02-21', 0.0, 'USC00519397'),\n",
       " ('2010-02-22', 0.0, 'USC00519397'),\n",
       " ('2010-02-23', 0.0, 'USC00519397'),\n",
       " ('2010-02-24', 0.0, 'USC00519397'),\n",
       " ('2010-02-25', 0.0, 'USC00519397'),\n",
       " ('2010-02-26', 0.0, 'USC00519397'),\n",
       " ('2010-02-28', 0.0, 'USC00519397'),\n",
       " ('2010-03-01', 0.01, 'USC00519397'),\n",
       " ('2010-03-02', 0.0, 'USC00519397'),\n",
       " ('2010-03-03', 0.0, 'USC00519397'),\n",
       " ('2010-03-04', 0.12, 'USC00519397'),\n",
       " ('2010-03-05', 0.08, 'USC00519397'),\n",
       " ('2010-03-06', 0.03, 'USC00519397'),\n",
       " ('2010-03-07', 0.0, 'USC00519397'),\n",
       " ('2010-03-08', 0.43, 'USC00519397'),\n",
       " ('2010-03-09', 0.06, 'USC00519397'),\n",
       " ('2010-03-11', None, 'USC00519397'),\n",
       " ('2010-03-12', 0.0, 'USC00519397'),\n",
       " ('2010-03-13', 0.0, 'USC00519397'),\n",
       " ('2010-03-14', 0.0, 'USC00519397'),\n",
       " ('2010-03-15', 0.06, 'USC00519397'),\n",
       " ('2010-03-17', 0.0, 'USC00519397'),\n",
       " ('2010-03-18', 0.0, 'USC00519397'),\n",
       " ('2010-03-21', 0.0, 'USC00519397'),\n",
       " ('2010-03-22', 0.0, 'USC00519397'),\n",
       " ('2010-03-23', 0.0, 'USC00519397'),\n",
       " ('2010-03-24', 0.0, 'USC00519397'),\n",
       " ('2010-03-26', None, 'USC00519397'),\n",
       " ('2010-03-27', 0.0, 'USC00519397'),\n",
       " ('2010-03-28', 0.0, 'USC00519397'),\n",
       " ('2010-03-29', 0.0, 'USC00519397'),\n",
       " ('2010-03-30', 0.0, 'USC00519397'),\n",
       " ('2010-03-31', 0.0, 'USC00519397'),\n",
       " ('2010-04-01', 0.0, 'USC00519397'),\n",
       " ('2010-04-02', 0.01, 'USC00519397'),\n",
       " ('2010-04-03', 0.17, 'USC00519397'),\n",
       " ('2010-04-04', 0.15, 'USC00519397'),\n",
       " ('2010-04-05', 0.27, 'USC00519397'),\n",
       " ('2010-04-06', 0.01, 'USC00519397'),\n",
       " ('2010-04-08', 0.0, 'USC00519397'),\n",
       " ('2010-04-09', 0.01, 'USC00519397'),\n",
       " ('2010-04-10', 0.0, 'USC00519397'),\n",
       " ('2010-04-11', 0.01, 'USC00519397'),\n",
       " ('2010-04-12', 0.01, 'USC00519397'),\n",
       " ('2010-04-13', 0.0, 'USC00519397'),\n",
       " ('2010-04-15', 0.0, 'USC00519397'),\n",
       " ('2010-04-16', 0.01, 'USC00519397'),\n",
       " ('2010-04-17', 0.0, 'USC00519397'),\n",
       " ('2010-04-18', 0.0, 'USC00519397'),\n",
       " ('2010-04-19', 0.0, 'USC00519397'),\n",
       " ('2010-04-20', 0.04, 'USC00519397'),\n",
       " ('2010-04-21', 0.01, 'USC00519397'),\n",
       " ('2010-04-22', 0.0, 'USC00519397'),\n",
       " ('2010-04-23', 0.02, 'USC00519397'),\n",
       " ('2010-04-24', 0.0, 'USC00519397')]"
      ]
     },
     "execution_count": 9,
     "metadata": {},
     "output_type": "execute_result"
    }
   ],
   "source": [
    "# Create our session (link) from Python to the DB\n",
    "session = Session(engine)\n",
    "\n",
    "#just sample data query\n",
    "session.query(Measurement.date,Measurement.prcp,Measurement.station).limit(100).all()\n"
   ]
  },
  {
   "cell_type": "code",
   "execution_count": 10,
   "metadata": {},
   "outputs": [
    {
     "data": {
      "text/plain": [
       "'2017-08-23'"
      ]
     },
     "execution_count": 10,
     "metadata": {},
     "output_type": "execute_result"
    }
   ],
   "source": [
    "# Getting max Date for the next question\n",
    "max_date = session.query(func.max(Measurement.date)).scalar()\n",
    "max_date\n"
   ]
  },
  {
   "cell_type": "markdown",
   "metadata": {},
   "source": [
    "# Exploratory Climate Analysis"
   ]
  },
  {
   "cell_type": "code",
   "execution_count": 11,
   "metadata": {},
   "outputs": [
    {
     "name": "stdout",
     "output_type": "stream",
     "text": [
      "2016-08-23\n"
     ]
    },
    {
     "data": {
      "image/png": "[encoded data removed]",
      "text/plain": [
       "<Figure size 432x288 with 1 Axes>"
      ]
     },
     "metadata": {},
     "output_type": "display_data"
    },
    {
     "data": {
      "text/html": [
       "<div>\n",
       "<style scoped>\n",
       "    .dataframe tbody tr th:only-of-type {\n",
       "        vertical-align: middle;\n",
       "    }\n",
       "\n",
       "    .dataframe tbody tr th {\n",
       "        vertical-align: top;\n",
       "    }\n",
       "\n",
       "    .dataframe thead th {\n",
       "        text-align: right;\n",
       "    }\n",
       "</style>\n",
       "<table border=\"1\" class=\"dataframe\">\n",
       "  <thead>\n",
       "    <tr style=\"text-align: right;\">\n",
       "      <th></th>\n",
       "      <th>date</th>\n",
       "      <th>prcp</th>\n",
       "    </tr>\n",
       "  </thead>\n",
       "  <tbody>\n",
       "    <tr>\n",
       "      <th>0</th>\n",
       "      <td>2016-08-23</td>\n",
       "      <td>0.00</td>\n",
       "    </tr>\n",
       "    <tr>\n",
       "      <th>1</th>\n",
       "      <td>2016-08-24</td>\n",
       "      <td>0.08</td>\n",
       "    </tr>\n",
       "    <tr>\n",
       "      <th>2</th>\n",
       "      <td>2016-08-25</td>\n",
       "      <td>0.08</td>\n",
       "    </tr>\n",
       "    <tr>\n",
       "      <th>3</th>\n",
       "      <td>2016-08-26</td>\n",
       "      <td>0.00</td>\n",
       "    </tr>\n",
       "    <tr>\n",
       "      <th>4</th>\n",
       "      <td>2016-08-27</td>\n",
       "      <td>0.00</td>\n",
       "    </tr>\n",
       "    <tr>\n",
       "      <th>...</th>\n",
       "      <td>...</td>\n",
       "      <td>...</td>\n",
       "    </tr>\n",
       "    <tr>\n",
       "      <th>2225</th>\n",
       "      <td>2017-08-19</td>\n",
       "      <td>0.09</td>\n",
       "    </tr>\n",
       "    <tr>\n",
       "      <th>2226</th>\n",
       "      <td>2017-08-20</td>\n",
       "      <td>NaN</td>\n",
       "    </tr>\n",
       "    <tr>\n",
       "      <th>2227</th>\n",
       "      <td>2017-08-21</td>\n",
       "      <td>0.56</td>\n",
       "    </tr>\n",
       "    <tr>\n",
       "      <th>2228</th>\n",
       "      <td>2017-08-22</td>\n",
       "      <td>0.50</td>\n",
       "    </tr>\n",
       "    <tr>\n",
       "      <th>2229</th>\n",
       "      <td>2017-08-23</td>\n",
       "      <td>0.45</td>\n",
       "    </tr>\n",
       "  </tbody>\n",
       "</table>\n",
       "<p>2230 rows × 2 columns</p>\n",
       "</div>"
      ],
      "text/plain": [
       "            date  prcp\n",
       "0     2016-08-23  0.00\n",
       "1     2016-08-24  0.08\n",
       "2     2016-08-25  0.08\n",
       "3     2016-08-26  0.00\n",
       "4     2016-08-27  0.00\n",
       "...          ...   ...\n",
       "2225  2017-08-19  0.09\n",
       "2226  2017-08-20   NaN\n",
       "2227  2017-08-21  0.56\n",
       "2228  2017-08-22  0.50\n",
       "2229  2017-08-23  0.45\n",
       "\n",
       "[2230 rows x 2 columns]"
      ]
     },
     "execution_count": 11,
     "metadata": {},
     "output_type": "execute_result"
    }
   ],
   "source": [
    "# Design a query to retrieve the last 12 months of precipitation data and plot the results\n",
    "import datetime as dt\n",
    "\n",
    "#Max date was derived in above cell\n",
    "lastDayInDb = dt.date(2017,8,23)\n",
    "\n",
    "# lastDayInDb.day\n",
    "# lastDayInDb.year\n",
    "# lastDayInDb.month\n",
    "\n",
    "# Calculate the date 1 year ago from the last data point in the database\n",
    "#this gives date one year ago\n",
    "lastDayMinusOneYear = lastDayInDb - dt.timedelta(days=365)\n",
    "print(lastDayMinusOneYear)\n",
    "\n",
    "\n",
    "# Perform a query to retrieve the data and precipitation scores\n",
    "lastYearsResults = session.query(Measurement.date, Measurement.prcp).\\\n",
    "    filter(Measurement.date >= lastDayMinusOneYear).all()\n",
    "#print(lastYearsResults)\n",
    "\n",
    "# Save the query results as a Pandas DataFrame and set the index to the date column\n",
    "df = pd.DataFrame(lastYearsResults, columns= ['date','prcp'])\n",
    "df.set_index('date')\n",
    "\n",
    "# Sort the dataframe by date\n",
    "df.sort_values(\"date\")\n",
    "\n",
    "# Use Pandas Plotting with Matplotlib to plot the data\n",
    "df.plot(x='date', y='prcp')\n",
    "plt.ylabel(\"Prcp\")\n",
    "plt.xticks(rotation=45)\n",
    "plt.show()\n",
    "\n",
    "df"
   ]
  },
  {
   "cell_type": "code",
   "execution_count": 12,
   "metadata": {},
   "outputs": [
    {
     "data": {
      "text/html": [
       "<div>\n",
       "<style scoped>\n",
       "    .dataframe tbody tr th:only-of-type {\n",
       "        vertical-align: middle;\n",
       "    }\n",
       "\n",
       "    .dataframe tbody tr th {\n",
       "        vertical-align: top;\n",
       "    }\n",
       "\n",
       "    .dataframe thead th {\n",
       "        text-align: right;\n",
       "    }\n",
       "</style>\n",
       "<table border=\"1\" class=\"dataframe\">\n",
       "  <thead>\n",
       "    <tr style=\"text-align: right;\">\n",
       "      <th></th>\n",
       "      <th>prcp</th>\n",
       "    </tr>\n",
       "  </thead>\n",
       "  <tbody>\n",
       "    <tr>\n",
       "      <th>count</th>\n",
       "      <td>2021.000000</td>\n",
       "    </tr>\n",
       "    <tr>\n",
       "      <th>mean</th>\n",
       "      <td>0.177279</td>\n",
       "    </tr>\n",
       "    <tr>\n",
       "      <th>std</th>\n",
       "      <td>0.461190</td>\n",
       "    </tr>\n",
       "    <tr>\n",
       "      <th>min</th>\n",
       "      <td>0.000000</td>\n",
       "    </tr>\n",
       "    <tr>\n",
       "      <th>25%</th>\n",
       "      <td>0.000000</td>\n",
       "    </tr>\n",
       "    <tr>\n",
       "      <th>50%</th>\n",
       "      <td>0.020000</td>\n",
       "    </tr>\n",
       "    <tr>\n",
       "      <th>75%</th>\n",
       "      <td>0.130000</td>\n",
       "    </tr>\n",
       "    <tr>\n",
       "      <th>max</th>\n",
       "      <td>6.700000</td>\n",
       "    </tr>\n",
       "  </tbody>\n",
       "</table>\n",
       "</div>"
      ],
      "text/plain": [
       "              prcp\n",
       "count  2021.000000\n",
       "mean      0.177279\n",
       "std       0.461190\n",
       "min       0.000000\n",
       "25%       0.000000\n",
       "50%       0.020000\n",
       "75%       0.130000\n",
       "max       6.700000"
      ]
     },
     "execution_count": 12,
     "metadata": {},
     "output_type": "execute_result"
    }
   ],
   "source": [
    "# Use Pandas to calcualte the summary statistics for the precipitation data\n",
    "df.describe()"
   ]
  },
  {
   "cell_type": "code",
   "execution_count": 13,
   "metadata": {},
   "outputs": [
    {
     "data": {
      "text/plain": [
       "9"
      ]
     },
     "execution_count": 13,
     "metadata": {},
     "output_type": "execute_result"
    }
   ],
   "source": [
    "# Design a query to show how many stations are available in this dataset?\n",
    "total_stations = session.query(Station.station.distinct()).all()\n",
    "len(total_stations)"
   ]
  },
  {
   "cell_type": "code",
   "execution_count": 14,
   "metadata": {},
   "outputs": [
    {
     "data": {
      "text/plain": [
       "[('USC00511918', 1979),\n",
       " ('USC00513117', 2709),\n",
       " ('USC00514830', 2202),\n",
       " ('USC00516128', 2612),\n",
       " ('USC00517948', 1372),\n",
       " ('USC00518838', 511),\n",
       " ('USC00519281', 2772),\n",
       " ('USC00519397', 2724),\n",
       " ('USC00519523', 2669)]"
      ]
     },
     "execution_count": 14,
     "metadata": {},
     "output_type": "execute_result"
    }
   ],
   "source": [
    "# What are the most active stations? (i.e. what stations have the most rows)?\n",
    "# List the stations and the counts in descending order.\n",
    "most_actives = session.query(Measurement.station,func.count(Measurement.station)).group_by(Measurement.station).all()\n",
    "most_actives"
   ]
  },
  {
   "cell_type": "code",
   "execution_count": 15,
   "metadata": {},
   "outputs": [
    {
     "name": "stdout",
     "output_type": "stream",
     "text": [
      "The Lowest, Highest & Average temperature for most active station USC00519281 is :\n",
      "Lowest  : 54.0\n",
      "Highest : 85.0\n",
      "Average  : 71.66378066378067\n"
     ]
    }
   ],
   "source": [
    "# Using the station id from the previous query, calculate the lowest temperature recorded, \n",
    "# highest temperature recorded, and average temperature of the most active station?\n",
    "#most active from above query is ('USC00519281', 2772)\n",
    "most_active = 'USC00519281'\n",
    "temp_vals = session.query(func.min(Measurement.tobs), func.max(Measurement.tobs), func.avg(Measurement.tobs)).\\\n",
    "    filter(Measurement.station == most_active).all()\n",
    "print(f\"The Lowest, Highest & Average temperature for most active station {most_active} is :\")\n",
    "print(f\"Lowest  : {temp_vals[0][0]}\")\n",
    "print(f\"Highest : {temp_vals[0][1]}\")\n",
    "print(f\"Average  : {temp_vals[0][2]}\")\n"
   ]
  },
  {
   "cell_type": "code",
   "execution_count": 16,
   "metadata": {},
   "outputs": [
    {
     "data": {
      "image/png": "[encoded data removed]",
      "text/plain": [
       "<Figure size 432x288 with 1 Axes>"
      ]
     },
     "metadata": {},
     "output_type": "display_data"
    }
   ],
   "source": [
    "# Choose the station with the highest number of temperature observations.\n",
    "# Query the last 12 months of temperature observation data for this station and plot the results as a histogram\n",
    "\n",
    "temp_12mos = session.query(Measurement.date, Measurement.tobs).\\\n",
    "    filter(Measurement.station == most_active).filter(Measurement.date >= lastDayMinusOneYear).\\\n",
    "    group_by(Measurement.date).all()\n",
    "\n",
    "# Put data into dataframe so it can be plotted as histogram\n",
    "temp_df = pd.DataFrame(data=temp_12mos, columns=[\"date\", \"tobs\"])\n",
    "temp_df = temp_df.set_index('date', drop=True)\n",
    "\n",
    "#Plot the results as a histogram with bins=12\n",
    "plt.hist(temp_df['tobs'],12, label=\"tobs\")\n",
    "plt.ylabel(\"Frequency\", fontsize=20)\n",
    "plt.legend()\n",
    "#plt.savefig(\"Output/Temperature_for_active station_last_12months.png\")\n",
    "plt.show()\n"
   ]
  },
  {
   "cell_type": "markdown",
   "metadata": {},
   "source": [
    "## Bonus Challenge Assignment"
   ]
  },
  {
   "cell_type": "code",
   "execution_count": 134,
   "metadata": {},
   "outputs": [
    {
     "name": "stdout",
     "output_type": "stream",
     "text": [
      " t value = 4.615865424404701 and\n",
      " p value = 0.0003657335214469917\n",
      " showing they are statistically significant\n"
     ]
    }
   ],
   "source": [
    "# Temperature Analysis I\n",
    "# Hawaii is reputed to enjoy mild weather all year. \n",
    "# Is there a meaningful difference between the temperature in, for example, June and December?\n",
    "# You may either use SQLAlchemy or pandas's read_csv() to perform this portion.\n",
    "\n",
    "# Identify the average temperature in June at all stations across all available\n",
    "# years in the dataset. Do the same for December temperature.\n",
    "# Use the t-test to determine whether the difference in the means, if any, \n",
    "# is statistically significant. Will you use a paired t-test, or an unpaired t-test? Why?\n",
    "\n",
    "# File to Load \n",
    "file_to_load = \"Resources/hawaii_measurements.csv\"\n",
    "\n",
    "# Read Purchasing File and store into Pandas data frame\n",
    "msr_df = pd.read_csv(file_to_load)\n",
    "\n",
    "#Add month column\n",
    "msr_df['month'] = pd.DatetimeIndex(msr_df['date']).month\n",
    "\n",
    "#Get monthly means for the temperature\n",
    "average_monthly = msr_df.groupby('station')[['tobs']].mean()\n",
    "avg_june_temp=msr_df.loc[msr_df['month'] == 6].groupby(msr_df['station']).mean()\n",
    "avg_dec_temp=msr_df.loc[msr_df['month'] == 12].groupby(msr_df['station']).mean()\n",
    "\n",
    "# print(f\"Average for June is : {avg_june_temp[\"tobs\"].mean()}\")\n",
    "# print(f\"Average for December is : {avg_dec_temp[\"tobs\"].mean()}\")\n",
    "\n",
    "from scipy.stats import ttest_ind\n",
    "t,p = ttest_ind(avg_june_temp[\"tobs\"],avg_dec_temp[\"tobs\"],equal_var=False)\n",
    "print(f\" t value = {t} and\\n p value = {p}\\n showing they are statistically significant\")\n",
    "\n"
   ]
  },
  {
   "cell_type": "code",
   "execution_count": 135,
   "metadata": {},
   "outputs": [
    {
     "data": {
      "text/html": [
       "<div>\n",
       "<style scoped>\n",
       "    .dataframe tbody tr th:only-of-type {\n",
       "        vertical-align: middle;\n",
       "    }\n",
       "\n",
       "    .dataframe tbody tr th {\n",
       "        vertical-align: top;\n",
       "    }\n",
       "\n",
       "    .dataframe thead th {\n",
       "        text-align: right;\n",
       "    }\n",
       "</style>\n",
       "<table border=\"1\" class=\"dataframe\">\n",
       "  <thead>\n",
       "    <tr style=\"text-align: right;\">\n",
       "      <th></th>\n",
       "      <th>prcp</th>\n",
       "      <th>tobs</th>\n",
       "      <th>month</th>\n",
       "    </tr>\n",
       "    <tr>\n",
       "      <th>station</th>\n",
       "      <th></th>\n",
       "      <th></th>\n",
       "      <th></th>\n",
       "    </tr>\n",
       "  </thead>\n",
       "  <tbody>\n",
       "    <tr>\n",
       "      <th>USC00511918</th>\n",
       "      <td>0.015157</td>\n",
       "      <td>74.139394</td>\n",
       "      <td>6.0</td>\n",
       "    </tr>\n",
       "    <tr>\n",
       "      <th>USC00513117</th>\n",
       "      <td>0.118248</td>\n",
       "      <td>74.050847</td>\n",
       "      <td>6.0</td>\n",
       "    </tr>\n",
       "    <tr>\n",
       "      <th>USC00514830</th>\n",
       "      <td>0.114192</td>\n",
       "      <td>76.005376</td>\n",
       "      <td>6.0</td>\n",
       "    </tr>\n",
       "    <tr>\n",
       "      <th>USC00516128</th>\n",
       "      <td>0.495748</td>\n",
       "      <td>71.937220</td>\n",
       "      <td>6.0</td>\n",
       "    </tr>\n",
       "    <tr>\n",
       "      <th>USC00517948</th>\n",
       "      <td>0.057975</td>\n",
       "      <td>76.655405</td>\n",
       "      <td>6.0</td>\n",
       "    </tr>\n",
       "    <tr>\n",
       "      <th>USC00518838</th>\n",
       "      <td>0.094615</td>\n",
       "      <td>73.394737</td>\n",
       "      <td>6.0</td>\n",
       "    </tr>\n",
       "    <tr>\n",
       "      <th>USC00519281</th>\n",
       "      <td>0.151525</td>\n",
       "      <td>73.271186</td>\n",
       "      <td>6.0</td>\n",
       "    </tr>\n",
       "    <tr>\n",
       "      <th>USC00519397</th>\n",
       "      <td>0.022661</td>\n",
       "      <td>77.559322</td>\n",
       "      <td>6.0</td>\n",
       "    </tr>\n",
       "    <tr>\n",
       "      <th>USC00519523</th>\n",
       "      <td>0.050044</td>\n",
       "      <td>76.668103</td>\n",
       "      <td>6.0</td>\n",
       "    </tr>\n",
       "  </tbody>\n",
       "</table>\n",
       "</div>"
      ],
      "text/plain": [
       "                 prcp       tobs  month\n",
       "station                                \n",
       "USC00511918  0.015157  74.139394    6.0\n",
       "USC00513117  0.118248  74.050847    6.0\n",
       "USC00514830  0.114192  76.005376    6.0\n",
       "USC00516128  0.495748  71.937220    6.0\n",
       "USC00517948  0.057975  76.655405    6.0\n",
       "USC00518838  0.094615  73.394737    6.0\n",
       "USC00519281  0.151525  73.271186    6.0\n",
       "USC00519397  0.022661  77.559322    6.0\n",
       "USC00519523  0.050044  76.668103    6.0"
      ]
     },
     "execution_count": 135,
     "metadata": {},
     "output_type": "execute_result"
    }
   ],
   "source": [
    "avg_june_temp"
   ]
  },
  {
   "cell_type": "code",
   "execution_count": 136,
   "metadata": {},
   "outputs": [
    {
     "data": {
      "text/html": [
       "<div>\n",
       "<style scoped>\n",
       "    .dataframe tbody tr th:only-of-type {\n",
       "        vertical-align: middle;\n",
       "    }\n",
       "\n",
       "    .dataframe tbody tr th {\n",
       "        vertical-align: top;\n",
       "    }\n",
       "\n",
       "    .dataframe thead th {\n",
       "        text-align: right;\n",
       "    }\n",
       "</style>\n",
       "<table border=\"1\" class=\"dataframe\">\n",
       "  <thead>\n",
       "    <tr style=\"text-align: right;\">\n",
       "      <th></th>\n",
       "      <th>prcp</th>\n",
       "      <th>tobs</th>\n",
       "      <th>month</th>\n",
       "    </tr>\n",
       "    <tr>\n",
       "      <th>station</th>\n",
       "      <th></th>\n",
       "      <th></th>\n",
       "      <th></th>\n",
       "    </tr>\n",
       "  </thead>\n",
       "  <tbody>\n",
       "    <tr>\n",
       "      <th>USC00511918</th>\n",
       "      <td>0.138146</td>\n",
       "      <td>69.684211</td>\n",
       "      <td>12.0</td>\n",
       "    </tr>\n",
       "    <tr>\n",
       "      <th>USC00513117</th>\n",
       "      <td>0.203241</td>\n",
       "      <td>71.069444</td>\n",
       "      <td>12.0</td>\n",
       "    </tr>\n",
       "    <tr>\n",
       "      <th>USC00514830</th>\n",
       "      <td>0.154966</td>\n",
       "      <td>73.224719</td>\n",
       "      <td>12.0</td>\n",
       "    </tr>\n",
       "    <tr>\n",
       "      <th>USC00516128</th>\n",
       "      <td>0.507005</td>\n",
       "      <td>69.291262</td>\n",
       "      <td>12.0</td>\n",
       "    </tr>\n",
       "    <tr>\n",
       "      <th>USC00517948</th>\n",
       "      <td>0.152727</td>\n",
       "      <td>71.834862</td>\n",
       "      <td>12.0</td>\n",
       "    </tr>\n",
       "    <tr>\n",
       "      <th>USC00518838</th>\n",
       "      <td>0.638182</td>\n",
       "      <td>72.421053</td>\n",
       "      <td>12.0</td>\n",
       "    </tr>\n",
       "    <tr>\n",
       "      <th>USC00519281</th>\n",
       "      <td>0.244931</td>\n",
       "      <td>69.903226</td>\n",
       "      <td>12.0</td>\n",
       "    </tr>\n",
       "    <tr>\n",
       "      <th>USC00519397</th>\n",
       "      <td>0.075314</td>\n",
       "      <td>71.109524</td>\n",
       "      <td>12.0</td>\n",
       "    </tr>\n",
       "    <tr>\n",
       "      <th>USC00519523</th>\n",
       "      <td>0.162010</td>\n",
       "      <td>72.433333</td>\n",
       "      <td>12.0</td>\n",
       "    </tr>\n",
       "  </tbody>\n",
       "</table>\n",
       "</div>"
      ],
      "text/plain": [
       "                 prcp       tobs  month\n",
       "station                                \n",
       "USC00511918  0.138146  69.684211   12.0\n",
       "USC00513117  0.203241  71.069444   12.0\n",
       "USC00514830  0.154966  73.224719   12.0\n",
       "USC00516128  0.507005  69.291262   12.0\n",
       "USC00517948  0.152727  71.834862   12.0\n",
       "USC00518838  0.638182  72.421053   12.0\n",
       "USC00519281  0.244931  69.903226   12.0\n",
       "USC00519397  0.075314  71.109524   12.0\n",
       "USC00519523  0.162010  72.433333   12.0"
      ]
     },
     "execution_count": 136,
     "metadata": {},
     "output_type": "execute_result"
    }
   ],
   "source": [
    "avg_dec_temp"
   ]
  },
  {
   "cell_type": "code",
   "execution_count": 17,
   "metadata": {},
   "outputs": [
    {
     "name": "stdout",
     "output_type": "stream",
     "text": [
      "[(62.0, 69.57142857142857, 74.0)]\n"
     ]
    }
   ],
   "source": [
    "# This function called `calc_temps` will accept start date and end date in the format '%Y-%m-%d' \n",
    "# and return the minimum, average, and maximum temperatures for that range of dates\n",
    "def calc_temps(start_date, end_date):\n",
    "    \"\"\"TMIN, TAVG, and TMAX for a list of dates.\n",
    "    \n",
    "    Args:\n",
    "        start_date (string): A date string in the format %Y-%m-%d\n",
    "        end_date (string): A date string in the format %Y-%m-%d\n",
    "        \n",
    "    Returns:\n",
    "        TMIN, TAVE, and TMAX\n",
    "    \"\"\"\n",
    "    \n",
    "    return session.query(func.min(Measurement.tobs), func.avg(Measurement.tobs), func.max(Measurement.tobs)).\\\n",
    "        filter(Measurement.date >= start_date).filter(Measurement.date <= end_date).all()\n",
    "\n",
    "# function usage example\n",
    "print(calc_temps('2012-02-28', '2012-03-05'))"
   ]
  },
  {
   "cell_type": "code",
   "execution_count": 18,
   "metadata": {},
   "outputs": [
    {
     "data": {
      "text/plain": [
       "[(71.0, 77.06382978723404, 82.0)]"
      ]
     },
     "execution_count": 18,
     "metadata": {},
     "output_type": "execute_result"
    }
   ],
   "source": [
    "# Use your previous function `calc_temps` to calculate the tmin, tavg, and tmax \n",
    "# for your trip using the previous year's data for those same dates.\n",
    "\n",
    "start_dt = dt.date(2017, 7, 1)\n",
    "end_dt = dt.date(2017, 7, 15)\n",
    "#\n",
    "last_yr = dt.timedelta(days=365)\n",
    "\n",
    "\n",
    "# calculate the min/max/avg from last year that matches my trip date\n",
    "temp_func_data = calc_temps((start_dt-last_yr), (end_dt-last_yr))\n",
    "temp_func_data"
   ]
  },
  {
   "cell_type": "code",
   "execution_count": 19,
   "metadata": {},
   "outputs": [
    {
     "data": {
      "image/png": "[encoded data removed]",
      "text/plain": [
       "<Figure size 288x432 with 1 Axes>"
      ]
     },
     "metadata": {},
     "output_type": "display_data"
    }
   ],
   "source": [
    "# Plot the results from your previous query as a bar chart. \n",
    "# Use \"Trip Avg Temp\" as your Title\n",
    "# Use the average temperature for the y value\n",
    "# Use the peak-to-peak (tmax-tmin) value as the y error bar (yerr)\n",
    "\n",
    "trip_df = pd.DataFrame(temp_func_data, columns=['tmin', 'tavg', 'tmax'])\n",
    "\n",
    "trip_df.plot.bar(y='tavg', yerr=(trip_df['tmax'] - trip_df['tmin']), title='Trip Avg Temp', color='coral', alpha=0.5, figsize=(4,6))\n",
    "plt.xticks(np.arange(1, 1.0))\n",
    "plt.ylabel(\"Temp (F)\")\n",
    "plt.tight_layout()\n",
    "plt.gca().legend_.remove()\n",
    "plt.show()\n"
   ]
  },
  {
   "cell_type": "code",
   "execution_count": 20,
   "metadata": {},
   "outputs": [
    {
     "data": {
      "text/plain": [
       "[('USC00516128',\n",
       "  'MANOA LYON ARBO 785.2, HI US',\n",
       "  21.3331,\n",
       "  -157.8025,\n",
       "  152.4,\n",
       "  2.8700000000000006),\n",
       " ('USC00519281',\n",
       "  'WAIHEE 837.5, HI US',\n",
       "  21.45167,\n",
       "  -157.84888999999998,\n",
       "  32.9,\n",
       "  1.6400000000000001),\n",
       " ('USC00513117',\n",
       "  'KANEOHE 838.1, HI US',\n",
       "  21.4234,\n",
       "  -157.8015,\n",
       "  14.6,\n",
       "  0.8300000000000001),\n",
       " ('USC00514830',\n",
       "  'KUALOA RANCH HEADQUARTERS 886.9, HI US',\n",
       "  21.5213,\n",
       "  -157.8374,\n",
       "  7.0,\n",
       "  0.39),\n",
       " ('USC00519397', 'WAIKIKI 717.2, HI US', 21.2716, -157.8168, 3.0, 0.21),\n",
       " ('USC00519523',\n",
       "  'WAIMANALO EXPERIMENTAL FARM, HI US',\n",
       "  21.33556,\n",
       "  -157.71139,\n",
       "  19.5,\n",
       "  0.13),\n",
       " ('USC00517948', 'PEARL CITY, HI US', 21.3934, -157.9751, 11.9, None)]"
      ]
     },
     "execution_count": 20,
     "metadata": {},
     "output_type": "execute_result"
    }
   ],
   "source": [
    "# Calculate the total amount of rainfall per weather station for your trip dates using the previous year's matching dates.\n",
    "# Sort this in descending order by precipitation amount and list the station, name, latitude, longitude, and elevation\n",
    "\n",
    "\n",
    "total_rainfall = session.query(Measurement.station, \n",
    "                               Station.name, \n",
    "                               Station.latitude, \n",
    "                               Station.longitude, \n",
    "                               Station.elevation, \n",
    "                               func.sum(Measurement.prcp)).\\\n",
    "            filter(Measurement.station == Station.station).\\\n",
    "            filter(Measurement.date >= start_dt).\\\n",
    "            filter(Measurement.date <= end_dt).\\\n",
    "            group_by(Measurement.station).\\\n",
    "            order_by(func.sum(Measurement.prcp).desc()).all()\n",
    "\n",
    "total_rainfall"
   ]
  },
  {
   "cell_type": "code",
   "execution_count": 21,
   "metadata": {},
   "outputs": [
    {
     "data": {
      "text/plain": [
       "[(62.0, 69.15384615384616, 77.0)]"
      ]
     },
     "execution_count": 21,
     "metadata": {},
     "output_type": "execute_result"
    }
   ],
   "source": [
    "# Create a query that will calculate the daily normals \n",
    "# (i.e. the averages for tmin, tmax, and tavg for all historic data matching a specific month and day)\n",
    "\n",
    "def daily_normals(date):\n",
    "    \"\"\"Daily Normals.\n",
    "    \n",
    "    Args:\n",
    "        date (str): A date string in the format '%m-%d'\n",
    "        \n",
    "    Returns:\n",
    "        A list of tuples containing the daily normals, tmin, tavg, and tmax\n",
    "    \n",
    "    \"\"\"\n",
    "    \n",
    "    sel = [func.min(Measurement.tobs), func.avg(Measurement.tobs), func.max(Measurement.tobs)]\n",
    "    return session.query(*sel).filter(func.strftime(\"%m-%d\", Measurement.date) == date).all()\n",
    "    \n",
    "daily_normals(\"01-01\")"
   ]
  },
  {
   "cell_type": "code",
   "execution_count": 22,
   "metadata": {},
   "outputs": [
    {
     "data": {
      "text/plain": [
       "['07-01,67.0, 74.77777777777777, 81.0',\n",
       " '07-02,68.0, 75.40384615384616, 82.0',\n",
       " '07-03,68.0, 75.32075471698113, 87.0',\n",
       " '07-04,70.0, 76.57142857142857, 81.0',\n",
       " '07-05,66.0, 75.0, 81.0',\n",
       " '07-06,69.0, 75.0, 81.0',\n",
       " '07-07,69.0, 74.91071428571429, 82.0',\n",
       " '07-08,69.0, 76.08333333333333, 83.0',\n",
       " '07-09,68.0, 76.19298245614036, 83.0',\n",
       " '07-10,68.0, 75.62068965517241, 82.0',\n",
       " '07-11,70.0, 75.78947368421052, 81.0',\n",
       " '07-12,67.0, 75.96491228070175, 82.0',\n",
       " '07-13,69.0, 76.1896551724138, 81.0',\n",
       " '07-14,61.0, 76.2280701754386, 82.0',\n",
       " '07-15,68.0, 76.2542372881356, 82.0']"
      ]
     },
     "execution_count": 22,
     "metadata": {},
     "output_type": "execute_result"
    }
   ],
   "source": [
    "# calculate the daily normals for your trip\n",
    "# push each tuple of calculations into a list called `normals`\n",
    "\n",
    "# Set the start and end date of the trip\n",
    "\n",
    "#using the same from above\n",
    "start_dt = dt.date(2017, 7, 1)\n",
    "end_dt = dt.date(2017, 7, 15)\n",
    "\n",
    "# Use the start and end date to create a range of dates\n",
    "date_range = session.query(Measurement.date).\\\n",
    "    filter(Measurement.date >= start_dt).\\\n",
    "    filter(Measurement.date <= end_dt).\\\n",
    "    group_by(Measurement.date).all()\n",
    "date_range\n",
    "\n",
    "# Strip off the year and save a list of %m-%d string\n",
    "\n",
    "dates_stripped= [x[0] for x in date_range]\n",
    "dates_stripped = [x[5:] for x in dates_stripped]\n",
    "\n",
    "# # Loop through the list of %m-%d strings and calculate the normals for each date\n",
    "daily_norms_list = [str(x) + ',' + str(daily_normals(x)) for x in dates_stripped]\n",
    "daily_norms_list = [x.replace('[','') for x in daily_norms_list]\n",
    "daily_norms_list = [x.replace(']','') for x in daily_norms_list]\n",
    "daily_norms_list = [x.replace('(','') for x in daily_norms_list]\n",
    "daily_norms_list = [x.replace(')','') for x in daily_norms_list]\n",
    "\n",
    "\n",
    "daily_norms_list"
   ]
  },
  {
   "cell_type": "code",
   "execution_count": 23,
   "metadata": {},
   "outputs": [
    {
     "data": {
      "text/html": [
       "<div>\n",
       "<style scoped>\n",
       "    .dataframe tbody tr th:only-of-type {\n",
       "        vertical-align: middle;\n",
       "    }\n",
       "\n",
       "    .dataframe tbody tr th {\n",
       "        vertical-align: top;\n",
       "    }\n",
       "\n",
       "    .dataframe thead th {\n",
       "        text-align: right;\n",
       "    }\n",
       "</style>\n",
       "<table border=\"1\" class=\"dataframe\">\n",
       "  <thead>\n",
       "    <tr style=\"text-align: right;\">\n",
       "      <th></th>\n",
       "      <th>T-Min</th>\n",
       "      <th>T-Avg</th>\n",
       "      <th>T-Max</th>\n",
       "    </tr>\n",
       "    <tr>\n",
       "      <th>Date</th>\n",
       "      <th></th>\n",
       "      <th></th>\n",
       "      <th></th>\n",
       "    </tr>\n",
       "  </thead>\n",
       "  <tbody>\n",
       "    <tr>\n",
       "      <th>07-01</th>\n",
       "      <td>67.0</td>\n",
       "      <td>74.777778</td>\n",
       "      <td>81.0</td>\n",
       "    </tr>\n",
       "    <tr>\n",
       "      <th>07-02</th>\n",
       "      <td>68.0</td>\n",
       "      <td>75.403846</td>\n",
       "      <td>82.0</td>\n",
       "    </tr>\n",
       "    <tr>\n",
       "      <th>07-03</th>\n",
       "      <td>68.0</td>\n",
       "      <td>75.320755</td>\n",
       "      <td>87.0</td>\n",
       "    </tr>\n",
       "    <tr>\n",
       "      <th>07-04</th>\n",
       "      <td>70.0</td>\n",
       "      <td>76.571429</td>\n",
       "      <td>81.0</td>\n",
       "    </tr>\n",
       "    <tr>\n",
       "      <th>07-05</th>\n",
       "      <td>66.0</td>\n",
       "      <td>75.000000</td>\n",
       "      <td>81.0</td>\n",
       "    </tr>\n",
       "    <tr>\n",
       "      <th>07-06</th>\n",
       "      <td>69.0</td>\n",
       "      <td>75.000000</td>\n",
       "      <td>81.0</td>\n",
       "    </tr>\n",
       "    <tr>\n",
       "      <th>07-07</th>\n",
       "      <td>69.0</td>\n",
       "      <td>74.910714</td>\n",
       "      <td>82.0</td>\n",
       "    </tr>\n",
       "    <tr>\n",
       "      <th>07-08</th>\n",
       "      <td>69.0</td>\n",
       "      <td>76.083333</td>\n",
       "      <td>83.0</td>\n",
       "    </tr>\n",
       "    <tr>\n",
       "      <th>07-09</th>\n",
       "      <td>68.0</td>\n",
       "      <td>76.192982</td>\n",
       "      <td>83.0</td>\n",
       "    </tr>\n",
       "    <tr>\n",
       "      <th>07-10</th>\n",
       "      <td>68.0</td>\n",
       "      <td>75.620690</td>\n",
       "      <td>82.0</td>\n",
       "    </tr>\n",
       "    <tr>\n",
       "      <th>07-11</th>\n",
       "      <td>70.0</td>\n",
       "      <td>75.789474</td>\n",
       "      <td>81.0</td>\n",
       "    </tr>\n",
       "    <tr>\n",
       "      <th>07-12</th>\n",
       "      <td>67.0</td>\n",
       "      <td>75.964912</td>\n",
       "      <td>82.0</td>\n",
       "    </tr>\n",
       "    <tr>\n",
       "      <th>07-13</th>\n",
       "      <td>69.0</td>\n",
       "      <td>76.189655</td>\n",
       "      <td>81.0</td>\n",
       "    </tr>\n",
       "    <tr>\n",
       "      <th>07-14</th>\n",
       "      <td>61.0</td>\n",
       "      <td>76.228070</td>\n",
       "      <td>82.0</td>\n",
       "    </tr>\n",
       "    <tr>\n",
       "      <th>07-15</th>\n",
       "      <td>68.0</td>\n",
       "      <td>76.254237</td>\n",
       "      <td>82.0</td>\n",
       "    </tr>\n",
       "  </tbody>\n",
       "</table>\n",
       "</div>"
      ],
      "text/plain": [
       "       T-Min      T-Avg  T-Max\n",
       "Date                          \n",
       "07-01   67.0  74.777778   81.0\n",
       "07-02   68.0  75.403846   82.0\n",
       "07-03   68.0  75.320755   87.0\n",
       "07-04   70.0  76.571429   81.0\n",
       "07-05   66.0  75.000000   81.0\n",
       "07-06   69.0  75.000000   81.0\n",
       "07-07   69.0  74.910714   82.0\n",
       "07-08   69.0  76.083333   83.0\n",
       "07-09   68.0  76.192982   83.0\n",
       "07-10   68.0  75.620690   82.0\n",
       "07-11   70.0  75.789474   81.0\n",
       "07-12   67.0  75.964912   82.0\n",
       "07-13   69.0  76.189655   81.0\n",
       "07-14   61.0  76.228070   82.0\n",
       "07-15   68.0  76.254237   82.0"
      ]
     },
     "execution_count": 23,
     "metadata": {},
     "output_type": "execute_result"
    }
   ],
   "source": [
    "# Load the previous query results into a Pandas DataFrame and add the `trip_dates` range as the `date` index\n",
    "\n",
    "daily_normals_df = pd.DataFrame([sub.split(\",\") for sub in daily_norms_list])\n",
    "\n",
    "daily_normals_df = daily_normals_df.rename(columns={daily_normals_df.columns[0]: 'Date'})\n",
    "daily_normals_df = daily_normals_df.rename(columns={daily_normals_df.columns[1]: 'T-Min'})\n",
    "daily_normals_df = daily_normals_df.rename(columns={daily_normals_df.columns[2]: 'T-Avg'})\n",
    "daily_normals_df = daily_normals_df.rename(columns={daily_normals_df.columns[3]: 'T-Max'})\n",
    "\n",
    "\n",
    "daily_normals_df = daily_normals_df.set_index('Date')\n",
    "\n",
    "daily_normals_df['T-Min'] = daily_normals_df['T-Min'].astype(float)\n",
    "daily_normals_df['T-Avg'] = daily_normals_df['T-Avg'].astype(float)\n",
    "daily_normals_df['T-Max'] = daily_normals_df['T-Max'].astype(float)\n",
    "\n",
    "daily_normals_df\n",
    "\n"
   ]
  },
  {
   "cell_type": "code",
   "execution_count": 137,
   "metadata": {},
   "outputs": [
    {
     "data": {
      "image/png": "[encoded data removed]",
      "text/plain": [
       "<Figure size 432x288 with 1 Axes>"
      ]
     },
     "metadata": {},
     "output_type": "display_data"
    }
   ],
   "source": [
    "# Plot the daily normals as an area plot with `stacked=False`\n",
    "daily_normals_df.plot(kind='area', alpha=.2, stacked=False, x_compat=True, title=\"Aggregate Daily Normals for Trip Dates\")\n",
    "plt.tight_layout()\n",
    "plt.show()"
   ]
  },
  {
   "cell_type": "code",
   "execution_count": null,
   "metadata": {},
   "outputs": [],
   "source": []
  }
 ],
 "metadata": {
  "kernel_info": {
   "name": "python3"
  },
  "kernelspec": {
   "display_name": "Python 3",
   "language": "python",
   "name": "python3"
  },
  "language_info": {
   "codemirror_mode": {
    "name": "ipython",
    "version": 3
   },
   "file_extension": ".py",
   "mimetype": "text/x-python",
   "name": "python",
   "nbconvert_exporter": "python",
   "pygments_lexer": "ipython3",
   "version": "3.7.6"
  },
  "nteract": {
   "version": "0.12.3"
  },
  "varInspector": {
   "cols": {
    "lenName": 16,
    "lenType": 16,
    "lenVar": 40
   },
   "kernels_config": {
    "python": {
     "delete_cmd_postfix": "",
     "delete_cmd_prefix": "del ",
     "library": "var_list.py",
     "varRefreshCmd": "print(var_dic_list())"
    },
    "r": {
     "delete_cmd_postfix": ") ",
     "delete_cmd_prefix": "rm(",
     "library": "var_list.r",
     "varRefreshCmd": "cat(var_dic_list()) "
    }
   },
   "types_to_exclude": [
    "module",
    "function",
    "builtin_function_or_method",
    "instance",
    "_Feature"
   ],
   "window_display": false
  }
 },
 "nbformat": 4,
 "nbformat_minor": 2
}
